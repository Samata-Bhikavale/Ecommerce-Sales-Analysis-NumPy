{
 "cells": [
  {
   "cell_type": "markdown",
   "id": "24057959-17f6-4b3e-a312-ec7f97902028",
   "metadata": {},
   "source": [
    "# E-Commerce Sales Analysis using NumPy\n",
    "## Analyzing customer orders, discounts, and revenue trends with NumPy\n",
    "In this project, we analyze sales data from an e-commerce store using NumPy. \n",
    "We'll explore key business metrics such as total revenue, highest discount offered, and average order value.\n",
    "This project helps in understanding data analysis concepts using NumPy in a real-world scenario."
   ]
  },
  {
   "cell_type": "code",
   "execution_count": 2,
   "id": "8fec644f-b0fe-469b-b8a3-d654182d687c",
   "metadata": {},
   "outputs": [],
   "source": [
    "import numpy as np\n",
    "\n"
   ]
  },
  {
   "cell_type": "code",
   "execution_count": 3,
   "id": "4bde5439-0fa8-4b85-9510-e1267120092b",
   "metadata": {},
   "outputs": [
    {
     "name": "stdout",
     "output_type": "stream",
     "text": [
      "Sample Dataset:\n",
      " [['1051' 'Clothing' '133.37332495442843' '28.61785731007762' '3'\n",
      "  '285.61421138779184' '4']\n",
      " ['1092' 'Electronics' '253.65176788726887' '27.445931706613457' '4'\n",
      "  '736.1387076012455' '2']\n",
      " ['1014' 'Beauty' '157.43037181021714' '11.104761007663331' '1'\n",
      "  '139.94810526721673' '1']\n",
      " ['1071' 'Beauty' '149.57184224495913' '0.46369849586602285' '2'\n",
      "  '297.7565597244603' '7']\n",
      " ['1060' 'Beauty' '28.07460420372107' '27.849556877631763' '2'\n",
      "  '40.51190267567154' '8']]\n"
     ]
    }
   ],
   "source": [
    "# Set random seed for reproducibility\n",
    "np.random.seed(42)\n",
    "\n",
    "# Number of records\n",
    "num_records = 100  \n",
    "\n",
    "# Generate random customer IDs\n",
    "customer_ids = np.random.randint(1000, 1100, num_records)\n",
    "\n",
    "# Product categories (random selection)\n",
    "product_categories = np.random.choice(\n",
    "    ['Electronics', 'Clothing', 'Home & Kitchen', 'Beauty', 'Sports'], num_records\n",
    ")\n",
    "\n",
    "# Generate random product prices (between $10 and $500)\n",
    "product_prices = np.random.uniform(10, 500, num_records)\n",
    "\n",
    "# Generate random discounts (0% to 30%)\n",
    "discounts = np.random.uniform(0, 30, num_records)  \n",
    "\n",
    "# Generate random quantities purchased (between 1 and 5)\n",
    "quantities = np.random.randint(1, 5, num_records)\n",
    "\n",
    "# Generate orders per month (between 1 and 10)\n",
    "orders_per_month = np.random.randint(1, 10, num_records)\n",
    "\n",
    "# Calculate total purchase value after discount\n",
    "total_purchases = product_prices * quantities * (1 - discounts / 100)\n",
    "\n",
    "# Combine into a NumPy array\n",
    "sales_data = np.column_stack((\n",
    "    customer_ids, product_categories, product_prices, discounts, quantities, total_purchases, orders_per_month\n",
    "))\n",
    "\n",
    "# Print first 5 rows\n",
    "print(\"Sample Dataset:\\n\", sales_data[:5])"
   ]
  },
  {
   "cell_type": "markdown",
   "id": "632409b9-4bf7-4516-8c27-19f52549b3fd",
   "metadata": {},
   "source": [
    "\n",
    "What is the total revenue generated (after discounts)?"
   ]
  },
  {
   "cell_type": "code",
   "execution_count": 5,
   "id": "0be9ca12-0afd-4951-ab2c-e52c7160857d",
   "metadata": {},
   "outputs": [
    {
     "name": "stdout",
     "output_type": "stream",
     "text": [
      "Total Revenue After Discounts: $ 51007.343876437655\n"
     ]
    }
   ],
   "source": [
    "total_revenue = np.sum(total_purchases)\n",
    "print(\"Total Revenue After Discounts: $\", total_revenue)"
   ]
  },
  {
   "cell_type": "markdown",
   "id": "f0769819-f9ef-467d-b82a-4199addf895c",
   "metadata": {},
   "source": [
    "What is the average order value (AOV)?"
   ]
  },
  {
   "cell_type": "code",
   "execution_count": 7,
   "id": "57d7cde0-8dd8-463d-9b63-43db3ebcadeb",
   "metadata": {},
   "outputs": [
    {
     "name": "stdout",
     "output_type": "stream",
     "text": [
      "Average Order Value (AOV): $ 510.07343876437653\n"
     ]
    }
   ],
   "source": [
    "average_order_value = np.mean(total_purchases)\n",
    "print(\"Average Order Value (AOV): $\", average_order_value)"
   ]
  },
  {
   "cell_type": "markdown",
   "id": "2cb98edf-7da5-4c5e-a76e-af966fcd1a37",
   "metadata": {},
   "source": [
    "Which customer spent the most money?"
   ]
  },
  {
   "cell_type": "code",
   "execution_count": 9,
   "id": "d5c0b1f1-0013-4818-b112-16b3d64cd3de",
   "metadata": {},
   "outputs": [
    {
     "name": "stdout",
     "output_type": "stream",
     "text": [
      "Customer who spent the most: 1002\n"
     ]
    }
   ],
   "source": [
    "highest_spender_index = np.argmax(total_purchases)  \n",
    "highest_spender = customer_ids[highest_spender_index]  \n",
    "print(\"Customer who spent the most:\", highest_spender)"
   ]
  },
  {
   "cell_type": "markdown",
   "id": "06ce1da9-64f9-4aeb-bf89-e96f41150694",
   "metadata": {},
   "source": [
    "️ What is the average discount applied?"
   ]
  },
  {
   "cell_type": "code",
   "execution_count": 11,
   "id": "c5ed7077-5ed0-453d-8781-0b47ed54ec6d",
   "metadata": {},
   "outputs": [
    {
     "name": "stdout",
     "output_type": "stream",
     "text": [
      "Average Discount Given:  15.429087254459805 %\n"
     ]
    }
   ],
   "source": [
    "average_discount = np.mean(discounts)\n",
    "print(\"Average Discount Given: \", average_discount, \"%\")"
   ]
  },
  {
   "cell_type": "markdown",
   "id": "a5f3fe7f-0cd1-456c-89fc-daa37cd5d7b8",
   "metadata": {},
   "source": [
    "Which product category generated the highest revenue?"
   ]
  },
  {
   "cell_type": "code",
   "execution_count": 13,
   "id": "7f382a39-4ffb-4e6b-8523-b6d4bebdc743",
   "metadata": {},
   "outputs": [
    {
     "name": "stdout",
     "output_type": "stream",
     "text": [
      "Highest Revenue Generating Category: Electronics\n"
     ]
    }
   ],
   "source": [
    "unique_categories = np.unique(product_categories)  \n",
    "category_revenue = {category: np.sum(total_purchases[product_categories == category]) for category in unique_categories}  \n",
    "highest_revenue_category = max(category_revenue, key=category_revenue.get)  \n",
    "print(\"Highest Revenue Generating Category:\", highest_revenue_category)"
   ]
  },
  {
   "cell_type": "markdown",
   "id": "eb29547e-9c6a-4250-ae86-919366df4ae1",
   "metadata": {},
   "source": [
    " How many unique customers made purchases?"
   ]
  },
  {
   "cell_type": "code",
   "execution_count": 15,
   "id": "cceab8c0-09c9-4124-a6d1-d3e2dcf74fe0",
   "metadata": {},
   "outputs": [
    {
     "name": "stdout",
     "output_type": "stream",
     "text": [
      "Total Unique Customers: 61\n"
     ]
    }
   ],
   "source": [
    "unique_customers = np.unique(customer_ids)\n",
    "print(\"Total Unique Customers:\", len(unique_customers))"
   ]
  },
  {
   "cell_type": "markdown",
   "id": "afe31758-9d69-41ad-aae0-0a2e110106c7",
   "metadata": {},
   "source": [
    " What is the most frequently purchased product category?"
   ]
  },
  {
   "cell_type": "code",
   "execution_count": 17,
   "id": "c55f9d43-17c6-4240-a38d-0874b7c67fd4",
   "metadata": {},
   "outputs": [
    {
     "name": "stdout",
     "output_type": "stream",
     "text": [
      "Most Frequently Purchased Category: Electronics\n"
     ]
    }
   ],
   "source": [
    "unique_categories, counts = np.unique(product_categories, return_counts=True)  \n",
    "most_frequent_category = unique_categories[np.argmax(counts)]  \n",
    "print(\"Most Frequently Purchased Category:\", most_frequent_category)"
   ]
  },
  {
   "cell_type": "markdown",
   "id": "603627cb-8398-4d46-9269-6123bc48f0ce",
   "metadata": {},
   "source": [
    "Which customer placed the most orders per month?"
   ]
  },
  {
   "cell_type": "code",
   "execution_count": 19,
   "id": "431e5e99-5dbc-4190-a327-5468c9867b2b",
   "metadata": {},
   "outputs": [
    {
     "name": "stdout",
     "output_type": "stream",
     "text": [
      "Customer with the most orders per month: 1087\n"
     ]
    }
   ],
   "source": [
    "max_orders_index = np.argmax(orders_per_month)  \n",
    "customer_most_orders = customer_ids[max_orders_index]  \n",
    "print(\"Customer with the most orders per month:\", customer_most_orders)"
   ]
  },
  {
   "cell_type": "markdown",
   "id": "48a092b0-39b0-4ea5-b613-231426ba9e4e",
   "metadata": {},
   "source": [
    " What is the average quantity of items purchased per order?"
   ]
  },
  {
   "cell_type": "code",
   "execution_count": 21,
   "id": "0f263dfb-764b-4e5e-8942-27c8190977d0",
   "metadata": {},
   "outputs": [
    {
     "name": "stdout",
     "output_type": "stream",
     "text": [
      "Average Quantity Purchased per Order: 2.45\n"
     ]
    }
   ],
   "source": [
    "average_quantity = np.mean(quantities)\n",
    "print(\"Average Quantity Purchased per Order:\", average_quantity)"
   ]
  },
  {
   "cell_type": "markdown",
   "id": "62238467-782a-4719-a459-7e47e1ff2913",
   "metadata": {},
   "source": [
    " What percentage of orders had a discount of 20% or more?"
   ]
  },
  {
   "cell_type": "code",
   "execution_count": 23,
   "id": "93d6d424-d0d7-4e4f-8e8b-5c2e527754bd",
   "metadata": {},
   "outputs": [
    {
     "name": "stdout",
     "output_type": "stream",
     "text": [
      "Percentage of Orders with 20%+ Discount: 36.0 %\n"
     ]
    }
   ],
   "source": [
    "high_discount_orders = np.sum(discounts >= 20)  \n",
    "percentage_high_discount = (high_discount_orders / num_records) * 100  \n",
    "print(\"Percentage of Orders with 20%+ Discount:\", percentage_high_discount, \"%\")"
   ]
  },
  {
   "cell_type": "markdown",
   "id": "ec852d43-5d2e-44c6-9d29-2237517d008b",
   "metadata": {},
   "source": [
    "Which product category had the lowest total revenue?"
   ]
  },
  {
   "cell_type": "code",
   "execution_count": 25,
   "id": "2ed02361-f49c-436c-bb78-ffd83a96f94b",
   "metadata": {},
   "outputs": [
    {
     "name": "stdout",
     "output_type": "stream",
     "text": [
      "Lowest Revenue-Generating Category: Clothing\n"
     ]
    }
   ],
   "source": [
    "bottom_category = min(category_revenue, key=category_revenue.get)\n",
    "print(\"Lowest Revenue-Generating Category:\", bottom_category)"
   ]
  },
  {
   "cell_type": "markdown",
   "id": "320335fd-1945-4ebd-aa20-f60b544a4140",
   "metadata": {},
   "source": [
    "What is the total revenue lost due to discounts?"
   ]
  },
  {
   "cell_type": "code",
   "execution_count": 27,
   "id": "c92f3e90-448f-4d9a-847e-ecff84bbe8ce",
   "metadata": {},
   "outputs": [
    {
     "name": "stdout",
     "output_type": "stream",
     "text": [
      "Total Revenue Lost Due to Discounts: $ 8881.83\n"
     ]
    }
   ],
   "source": [
    "total_revenue_without_discount = np.sum(product_prices * quantities)\n",
    "total_discount_loss = total_revenue_without_discount - total_revenue\n",
    "\n",
    "print(\"Total Revenue Lost Due to Discounts: $\", round(total_discount_loss, 2))"
   ]
  },
  {
   "cell_type": "code",
   "execution_count": null,
   "id": "64eb397b-bb1f-4c55-b9cb-04170a094744",
   "metadata": {},
   "outputs": [],
   "source": []
  }
 ],
 "metadata": {
  "kernelspec": {
   "display_name": "Python 3 (ipykernel)",
   "language": "python",
   "name": "python3"
  },
  "language_info": {
   "codemirror_mode": {
    "name": "ipython",
    "version": 3
   },
   "file_extension": ".py",
   "mimetype": "text/x-python",
   "name": "python",
   "nbconvert_exporter": "python",
   "pygments_lexer": "ipython3",
   "version": "3.12.4"
  }
 },
 "nbformat": 4,
 "nbformat_minor": 5
}
